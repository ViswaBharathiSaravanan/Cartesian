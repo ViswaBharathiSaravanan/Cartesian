{
 "cells": [
  {
   "cell_type": "markdown",
   "id": "c34f809f",
   "metadata": {},
   "source": [
    "<H6>QUESTION 1<H6>"
   ]
  },
  {
   "cell_type": "code",
   "execution_count": null,
   "id": "5104dc03",
   "metadata": {},
   "outputs": [],
   "source": []
  },
  {
   "cell_type": "markdown",
   "id": "8bd193a9",
   "metadata": {},
   "source": [
    "<H6>SQL QUESTION 1<H6>"
   ]
  },
  {
   "cell_type": "code",
   "execution_count": null,
   "id": "b523892d",
   "metadata": {},
   "outputs": [],
   "source": [
    "WITH n as(SELECT AA.Cat_id,a.Product_ID,row_number() over(Partition by cat_id order by amount desc)as row_no from(SELECT b.Cat_id,a.Product_ID,sum(Bill_Amount)as amount from Purchase _History a join Product_catalogue b on a.Product_id=b.Product_id WHERE CURDATE()-Bill_Date<31 GROUP BY 1,2 ORDER BY 3 DESC)AA)\n",
    "SELECT * from n where row_no<2"
   ]
  },
  {
   "cell_type": "markdown",
   "id": "dac99c7c",
   "metadata": {},
   "source": [
    "<H6>SQL QUESTION 2<H6>"
   ]
  },
  {
   "cell_type": "code",
   "execution_count": null,
   "id": "c2dc4b9f",
   "metadata": {},
   "outputs": [],
   "source": [
    "with A as(select*,row_number()over(order by customer_id)as row_no from customer),B as(select*,row_number()over(order by voucher_id)as row_no from voucher)\n",
    "select customer_id as coustomer_key,voucher_id as gift_voucher_key\n",
    "from A a join B b on a.row_no=b.row_no"
   ]
  }
 ],
 "metadata": {
  "kernelspec": {
   "display_name": "Python 3 (ipykernel)",
   "language": "python",
   "name": "python3"
  },
  "language_info": {
   "codemirror_mode": {
    "name": "ipython",
    "version": 3
   },
   "file_extension": ".py",
   "mimetype": "text/x-python",
   "name": "python",
   "nbconvert_exporter": "python",
   "pygments_lexer": "ipython3",
   "version": "3.9.12"
  }
 },
 "nbformat": 4,
 "nbformat_minor": 5
}
